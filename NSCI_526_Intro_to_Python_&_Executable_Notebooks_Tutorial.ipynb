{
  "nbformat": 4,
  "nbformat_minor": 0,
  "metadata": {
    "colab": {
      "provenance": [],
      "collapsed_sections": [],
      "authorship_tag": "ABX9TyPuY74QNuGInrnOHcIOQYVF",
      "include_colab_link": true
    },
    "kernelspec": {
      "name": "python3",
      "display_name": "Python 3"
    },
    "language_info": {
      "name": "python"
    }
  },
  "cells": [
    {
      "cell_type": "markdown",
      "metadata": {
        "id": "view-in-github",
        "colab_type": "text"
      },
      "source": [
        "<a href=\"https://colab.research.google.com/github/MartinezAddiego/GU-NSCI526-Tutorials/blob/main/NSCI_526_Intro_to_Python_%26_Executable_Notebooks_Tutorial.ipynb\" target=\"_parent\"><img src=\"https://colab.research.google.com/assets/colab-badge.svg\" alt=\"Open In Colab\"/></a>"
      ]
    },
    {
      "cell_type": "markdown",
      "source": [
        "# Intro to Python & Executable Notebooks Tutorial\n",
        "\n",
        "Flo Martinez Addiego (fam53@georgetown.edu)\n",
        "\n",
        "NSCI-526 Computational Neuroscience\n",
        "\n",
        "Georgetown University\n",
        "\n",
        "This tutorial has been created with the help of various resources including --\n",
        "\n",
        "\n",
        "*   [Dr. Shawn Rhoads' NSCI 526 Tutorial 1.1 (Intro to Python)](https://nbviewer.org/github/shawnrhoads/gu-nsci-526/blob/master/NSCI%20526%20Tutorial%201.1%20%28Intro%20to%20Python%29.ipynb)\n",
        "*   [Plamen Nikolov's modified NSCI 526 Tutorial](https://colab.research.google.com/drive/10DSuKt4_XE_2wVRCJTRkERMMne3nh_6y#scrollTo=G8QnjuRv_WA5)\n",
        "*   [Google Colab](https://colab.research.google.com/)\n",
        "*   [DartBrains Course](https://dartbrains.org/content/intro.html)\n",
        "*   [Stanford's Convolutional Neural Networks for Visual Recognition class](https://cs231n.github.io/)\n",
        "*   [Python for Everybody Videos](https://py4e.com)"
      ],
      "metadata": {
        "id": "vWSHHJ5hUi6C"
      }
    },
    {
      "cell_type": "markdown",
      "source": [
        "## What is an Executable Notebook? Why use it?\n",
        "\n",
        "An executable or computational notebook (e.g. a Jupyter notebook, R Markdown) is a way to neatly write and develop code. You will see examples below, but it is possible to embed code within a \"cell\" and surround it with other cells containing text and explaining what the code does/should do. Importantly, this kind of format makes it easier to read and follow the code. Additionally, the results can be reproduced immediately following each coding cell. According to Stephen Wolfram (thanks, Wikipedia for the quote!), \"The idea of a notebook is to have an interactive document that freely mixes code, results, graphics, text, and everything else.\" What more could you want?!\n",
        "\n",
        "Computational notebooks have been used heavily for data science work. There is an initiative within the larger scientific community to publish \"[executable papers](https://www.nature.com/articles/s42005-020-00403-4).\"\n",
        "\n",
        "Executable notebooks are advantageous for several reasons including [[1]](https://martinfowler.com/bliki/ComputationalNotebook.html) [[2]](https://builtin.com/software-engineering-perspectives/jupyter-notebook#:~:text=Jupyter%20provides%20a%20framework%20and,to%20reconsider%20your%20life%20choices.):\n",
        "\n",
        "1.   Facilitates problem exploration\n",
        "2.   Ideal for creating tutorials (like this one!)\n",
        "3.   Clear documentation and chronological explanation of the implemented code\n",
        "\n",
        "A Jupyter (Jupyter = Julia, Python, and R) Notebook lets you run Python code on your own local machine using a web browser. Since you can manipulate and play with cells of code in a more individual way, Jupyter notebooks are pretty great for scientific computing. \n",
        "\n",
        "*Google Colaboratory (Google Colab) is a type of Jupyter notebook that is hosted by Colab. It allows you to run everything on the cloud instead of your local machine*"
      ],
      "metadata": {
        "id": "rFV8KxiKV1TC"
      }
    },
    {
      "cell_type": "markdown",
      "source": [
        "## Computational Notebooks as an Integrative Environment\n",
        "\n",
        "Computational notebooks allow us to interface a particular coding language with text. Using Google Colab as an example, we see that we have two different kinds of **cells** (as alluded to in the cell, ha, or chunk above):\n",
        "\n",
        "1.   Code cells. A **code cell** is a block that actually holds the code that we want. There are two ways to indcate that you want the cell to be a code cell. One way is by simply manually clicking the code cell block in the toolbar. Another way is by hitting (esc, y) while having a cell selected. It is necessary to hit enter afterwards to edit the cell. If you want to execute the code, hit (shift + enter). Rather than progressing down the page sequentially, the code is interpreted in the order that you execute it. I'll show an example of this later on. \n",
        "\n",
        "2.   Markdown cells. (Hint: this is a markdown cell). A **markdown cell** can also be thought about as a text cell. The text here is written in markdown which is a lightweight markup language and has its own syntax rules. It is also possible to insert HTML into markdown cells. Just like for the code cells, there are two main ways to indicate that you want the cell to be considered a markdown cell. One way is by simply manually clicking the markdown cell block in the toolbar. Another way is by hitting (esc, m) while having a cell selected. It is necessary to hit enter aftewrards to edit the cell. Just as before, hitting (shift + enter) will run the cell. \n",
        "\n",
        "As a note -- if you want to add a new cell, you can use the \"Insert\" tab in the toolbar or hit (esc, b) to insert a cell below or hit (esc, a) to insert a cell above. You can execute a cell and add a new one below it by hitting (alt + enter).\n"
      ],
      "metadata": {
        "id": "eWXgyR2HU9l2"
      }
    },
    {
      "cell_type": "code",
      "source": [
        "##This is a code cell\n",
        "##We can add code in here and then run it\n",
        "\n",
        "print('Hello, world')"
      ],
      "metadata": {
        "colab": {
          "base_uri": "https://localhost:8080/"
        },
        "id": "l9mxeQopl2F_",
        "outputId": "87d75546-082a-4fa7-8bc8-b9878b0fd5b3"
      },
      "execution_count": null,
      "outputs": [
        {
          "output_type": "stream",
          "name": "stdout",
          "text": [
            "Hello, world\n"
          ]
        }
      ]
    },
    {
      "cell_type": "markdown",
      "source": [
        "This is a markdown cell\n",
        "\n",
        "**This** is a markdown cell\n",
        "\n",
        "*This* is a markdown cell\n",
        "\n",
        "<font color = \"blue\">This</font> is a markdown cell\n",
        "\n",
        "`This is a markdown cell`\n",
        "\n",
        "As part of a markdown cell, we can make our notebook do a lot of things.\n",
        "\n",
        "You saw earlier that I incorporated ordered lists --\n",
        "\n",
        "\n",
        "1.   Ordered List item 1\n",
        "2.   Ordered List item 2\n",
        "\n",
        "And unordered lists\n",
        "\n",
        "*   Unordered List item 1\n",
        "*   Unordered List item 2\n",
        "\n",
        "> We can also add an indented block\n",
        "\n",
        "It's pretty cool, because it's a great reminder that these notebooks are really not just for code -- \n",
        "\n",
        "- Markdown, HTML, LateX \n",
        "\n",
        "- Slide shows\n",
        "- Embed images, videos, anything (it's all just HTML + javascript)\n",
        "\n",
        "Just think! The whole coding world is your oyster ✌\n"
      ],
      "metadata": {
        "id": "D0I1KNkgl-we"
      }
    },
    {
      "cell_type": "markdown",
      "source": [
        "[HTML Integration Example in a Markdown Cell:](https://medium.com/analytics-vidhya/get-more-out-of-google-colab-5bf9d9519a56)\n",
        "\n",
        "<p>Now this is <i>really</i> awesome!</p>\n",
        "<img src='https://upload.wikimedia.org/wikipedia/commons/thumb/0/0a/Python.svg/768px-Python.svg.png'></img>\n"
      ],
      "metadata": {
        "id": "fr9DdkJE5Yez"
      }
    },
    {
      "cell_type": "code",
      "source": [
        "#HTML Integration Example In a Code Cell:\n",
        "#Source: https://medium.com/analytics-vidhya/get-more-out-of-google-colab-5bf9d9519a56\n",
        "import IPython\n",
        "html_code = \\\n",
        "'''\n",
        "<p>Now this is <i>really</i> awesome!</p>\n",
        "<img src='https://upload.wikimedia.org/wikipedia/commons/thumb/0/0a/Python.svg/768px-Python.svg.png'></img>\n",
        "'''\n",
        "\n",
        "display(IPython.display.HTML(html_code))"
      ],
      "metadata": {
        "colab": {
          "base_uri": "https://localhost:8080/",
          "height": 819
        },
        "id": "79CWrnlRy-A2",
        "outputId": "d0eaa52e-7a42-42eb-b2a1-81c7a149454b"
      },
      "execution_count": null,
      "outputs": [
        {
          "output_type": "display_data",
          "data": {
            "text/plain": [
              "<IPython.core.display.HTML object>"
            ],
            "text/html": [
              "\n",
              "<p>Now this is <i>really</i> awesome!</p>\n",
              "<img src='https://upload.wikimedia.org/wikipedia/commons/thumb/0/0a/Python.svg/768px-Python.svg.png'></img>\n"
            ]
          },
          "metadata": {}
        }
      ]
    },
    {
      "cell_type": "markdown",
      "source": [
        "[Latex Integration Example](https://colab.research.google.com/github/bebi103a/bebi103a.github.io/blob/master/lessons/00/intro_to_latex.ipynb#Useful-LaTeX-symbols-for-BE/Bi-103)\n",
        "\n",
        "This might look familiar...(Hint: It's the equation that integrates the weights for a neuron with an activation function, f!)\n",
        "\n",
        "\\begin{align}\n",
        "        f( b + \\sum_{i=1}^n x_i w_i)\n",
        "    \\end{align}"
      ],
      "metadata": {
        "id": "4-27pcHN4ctZ"
      }
    },
    {
      "cell_type": "markdown",
      "source": [
        "##Ok, now that you're hopefully convinced that executable notebooks aren't the *worst* thing...\n",
        "\n",
        "##Let's move on to a basic intro to Python\n",
        "\n",
        "What are some variables and simple data types?\n",
        "\n",
        "*   Numeric (integer, float, etc)\n",
        "*   String\n",
        "*   Booleans (true/false)\n",
        "\n",
        "Credit to Eric Matthes' *Python Crash Course*"
      ],
      "metadata": {
        "id": "I7Swp0uhr1xt"
      }
    },
    {
      "cell_type": "code",
      "source": [
        "#Basic Data Types\n",
        "\n",
        "#Integer:\n",
        "thisIsAnInteger = 14*3\n",
        "print(thisIsAnInteger)\n",
        "#To check the data type, just use the type function...\n",
        "print(type(thisIsAnInteger))\n",
        "\n",
        "#Float\n",
        "thisIsAFloat = 1.0\n",
        "print(type(thisIsAFloat))\n",
        "\n",
        "# Just a fancy calculator?\n",
        "\n",
        "print(thisIsAnInteger)\n",
        "#Addition\n",
        "print(thisIsAnInteger + 1)\n",
        "\n",
        "#subtraction\n",
        "print(thisIsAnInteger - 1)\n",
        "\n",
        "#Multiplication\n",
        "print(thisIsAnInteger*2)\n",
        "\n",
        "#Exponentiation\n",
        "print(2**2)\n",
        "\n",
        "#Booleans\n",
        "t = True\n",
        "f = False\n",
        "\n",
        "print(type(t))\n",
        "print(t and f)\n",
        "print(t or f)\n",
        "print(not t)\n",
        "print(t != f)\n",
        "\n"
      ],
      "metadata": {
        "colab": {
          "base_uri": "https://localhost:8080/"
        },
        "id": "rmL1prXUwUPT",
        "outputId": "223ef314-4d04-47d4-d163-d64f526dd9ac"
      },
      "execution_count": null,
      "outputs": [
        {
          "output_type": "stream",
          "name": "stdout",
          "text": [
            "42\n",
            "<class 'int'>\n",
            "<class 'float'>\n",
            "42\n",
            "43\n",
            "41\n",
            "84\n",
            "4\n",
            "<class 'bool'>\n",
            "False\n",
            "True\n",
            "False\n",
            "True\n"
          ]
        }
      ]
    },
    {
      "cell_type": "code",
      "source": [
        "#Yes, it's more than just a fancy calcuator...STRINGS!\n",
        "print('Hello, world!')"
      ],
      "metadata": {
        "colab": {
          "base_uri": "https://localhost:8080/"
        },
        "id": "eb11O1TQuvXz",
        "outputId": "2cd07446-255e-4c58-ffb8-2490fc4de9e5"
      },
      "execution_count": null,
      "outputs": [
        {
          "output_type": "stream",
          "name": "stdout",
          "text": [
            "Hello, world!\n"
          ]
        }
      ]
    },
    {
      "cell_type": "code",
      "source": [
        "#Using operations on strings?!\n",
        "string1 = 'Hello'\n",
        "string2 = 'world'\n",
        "print(string1 + ', ' + string2 + '!')"
      ],
      "metadata": {
        "colab": {
          "base_uri": "https://localhost:8080/"
        },
        "id": "NIvpvWvMpsoz",
        "outputId": "c8d682af-38b7-4ee0-818c-038176a5106b"
      },
      "execution_count": null,
      "outputs": [
        {
          "output_type": "stream",
          "name": "stdout",
          "text": [
            "Hello, world!\n"
          ]
        }
      ]
    },
    {
      "cell_type": "code",
      "source": [
        "#What can we do with strings, you might ask? Well... just as an example...\n",
        "absoluteTruth = 'I love Computational Neuroscience'\n",
        "print(absoluteTruth.upper())"
      ],
      "metadata": {
        "id": "M7rmXd_ku0le",
        "colab": {
          "base_uri": "https://localhost:8080/"
        },
        "outputId": "37198e60-20b8-40cf-ae96-76eb93145bcf"
      },
      "execution_count": null,
      "outputs": [
        {
          "output_type": "stream",
          "name": "stdout",
          "text": [
            "I LOVE COMPUTATIONAL NEUROSCIENCE\n"
          ]
        }
      ]
    },
    {
      "cell_type": "markdown",
      "source": [
        "## Now that we have an understanding of what kinds of data types we might encounter when writing code in Python, we need to understand how we might store a collection of these variables (numbers, strings, or whatever).\n",
        "\n",
        "###Python has many \"built-in\" ways to store variables including --\n",
        "\n",
        "\n",
        "1.   A list: Python equivalent of an array, but is resizable and can contain elements of different types\n",
        "2.   A dictionary: A \"bag\" of values with its own label; there is no order\n",
        "3.   A tuple: A tuple is an immutable (unchangeable) list\n",
        "\n"
      ],
      "metadata": {
        "id": "CkEqleto3e-i"
      }
    },
    {
      "cell_type": "markdown",
      "source": [
        "#More on Lists:\n",
        "In Python, a list is a mutable sequence of values. Mutable means that we can change separate entries within a list.\n",
        "\n",
        "*   Each value in the list is an element or item\n",
        "*   Elements can be any Python data type\n",
        "*   Lists can mix data types\n",
        "*   Lists are initialized with [] or list()"
      ],
      "metadata": {
        "id": "9fMNGdOIGTp0"
      }
    },
    {
      "cell_type": "code",
      "source": [
        "#Example of Lists!\n",
        "listOfNumbers = [5,4,10]\n",
        "#Accessing a value within a list\n",
        "print(listOfNumbers, listOfNumbers[0], listOfNumbers[2], listOfNumbers[-1])"
      ],
      "metadata": {
        "colab": {
          "base_uri": "https://localhost:8080/"
        },
        "id": "T_hQzpyd1Vub",
        "outputId": "a1865f29-58ac-4b89-e94e-d953b35d6527"
      },
      "execution_count": null,
      "outputs": [
        {
          "output_type": "stream",
          "name": "stdout",
          "text": [
            "[5, 4, 10] 5 10 10\n"
          ]
        }
      ]
    },
    {
      "cell_type": "code",
      "source": [
        "#What if I want to change the second element of the list to my favorite number 11?\n",
        "print(listOfNumbers)\n",
        "\n",
        "listOfNumbers[2] = 11\n",
        "print(listOfNumbers)"
      ],
      "metadata": {
        "colab": {
          "base_uri": "https://localhost:8080/"
        },
        "id": "bSk2aCvs1zje",
        "outputId": "8784abcc-0a44-490f-bc02-fa19b277b8f1"
      },
      "execution_count": null,
      "outputs": [
        {
          "output_type": "stream",
          "name": "stdout",
          "text": [
            "[5, 4, 10]\n",
            "[5, 4, 11]\n"
          ]
        }
      ]
    },
    {
      "cell_type": "code",
      "source": [
        "#Okay, what if I wand to instead add a third element to the list?\n",
        "\n",
        "listOfNumbers.append(int(input('Someone please choose a number ')))\n",
        "print(listOfNumbers)"
      ],
      "metadata": {
        "colab": {
          "base_uri": "https://localhost:8080/"
        },
        "id": "g9_BArCA1-eG",
        "outputId": "eea24b9f-5e08-4229-ccd6-6b56199c159d"
      },
      "execution_count": null,
      "outputs": [
        {
          "output_type": "stream",
          "name": "stdout",
          "text": [
            "Someone please choose a number 13\n",
            "[5, 4, 11, 13]\n"
          ]
        }
      ]
    },
    {
      "cell_type": "markdown",
      "source": [
        "##More on Dictionaries\n",
        "\n",
        "In Python, a dictionary (or dict) is mapping between a set of indices (keys) and a set of values. \n",
        "\n",
        "In a list, we can think of each position being the **key** to be able to retrieve the variable or element of the list. When we think about dictionaries, we have a string (for example) that is the key to the variable or element of the list.\n",
        "\n",
        "Importantly, keys can be any Python data type and the items that make up a dictionary are key-value pairs. Dictionaries are unordered"
      ],
      "metadata": {
        "id": "R0375zLrG3rF"
      }
    },
    {
      "cell_type": "code",
      "source": [
        "#Example of Dictionaries!\n",
        "\n",
        "exDict = {'cat': 'meow', 'dog': 'woof', 'cow': 'moo', 'giraffe': 'chuff'}\n",
        "print(exDict['giraffe'])\n",
        "\n",
        "#We can add more to the list...\n",
        "exDict['sheep'] = 'ba'\n",
        "\n",
        "print(exDict.get('sheep', 'Non-existent'))\n",
        "print(exDict.get('fish', 'Non-existent'))\n",
        "print(exDict.get('wolf'))"
      ],
      "metadata": {
        "colab": {
          "base_uri": "https://localhost:8080/"
        },
        "id": "ZfJjiJw_7YaA",
        "outputId": "9bf944be-e6d1-491b-d67a-451088a8c696"
      },
      "execution_count": null,
      "outputs": [
        {
          "output_type": "stream",
          "name": "stdout",
          "text": [
            "chuff\n",
            "ba\n",
            "Non-existent\n",
            "None\n"
          ]
        }
      ]
    },
    {
      "cell_type": "markdown",
      "source": [
        "##More on Tuples\n",
        "\n",
        "In Python, a tuple is an immutable sequence of values. A tuple is similar to a list but instead can be used as keys in dictionaries while lists cannot.\n",
        "- Each value in the tuple is an element or item\n",
        "- Elements can be any Python data type\n",
        "- Tuples can mix data types\n",
        "- Elements can be nested tuples"
      ],
      "metadata": {
        "id": "48AVPk6kHrDl"
      }
    },
    {
      "cell_type": "code",
      "source": [
        "#Example of Tuples!\n",
        "#As mentioned above, a tuple is an immutable set of ordered values. It is similar to a list but:\n",
        "#tuples can be used as keys in dictionaries and lists cannot\n",
        "\n",
        "exDict2 = {(x,x+1): x for x in range(10)}\n",
        "print(exDict2)\n",
        "\n",
        "t = (5,6)\n",
        "print(type(t))\n",
        "print(exDict2[t])\n",
        "print(exDict2[(1,2)])"
      ],
      "metadata": {
        "colab": {
          "base_uri": "https://localhost:8080/"
        },
        "id": "-g8vX3fDAULw",
        "outputId": "f49da9bd-71b7-4e4d-b884-1ba83f99f67d"
      },
      "execution_count": null,
      "outputs": [
        {
          "output_type": "stream",
          "name": "stdout",
          "text": [
            "{(0, 1): 0, (1, 2): 1, (2, 3): 2, (3, 4): 3, (4, 5): 4, (5, 6): 5, (6, 7): 6, (7, 8): 7, (8, 9): 8, (9, 10): 9}\n",
            "<class 'tuple'>\n",
            "5\n",
            "1\n"
          ]
        }
      ]
    },
    {
      "cell_type": "markdown",
      "source": [
        "##If this, then that: Conditional Statements\n",
        "\n",
        "Unlike most other languages, Python uses tab formatting rather than closing conditional statements (e.g., end)\n",
        "\n",
        "Syntax:\n",
        "```\n",
        "if condition: \n",
        "    do something\n",
        "```\n",
        "\n",
        "Here is a more correct way to explain the syntax \n",
        "\n",
        "```\n",
        "if *condition 1*:\n",
        "    DO THIS\n",
        "elif *condition 2*:\n",
        "    DO ANOTHER THING\n",
        "else:\n",
        "    DO YET ANOTHER THING # often reserved to report an error\n",
        "                 # after a long list of options\n",
        "```"
      ],
      "metadata": {
        "id": "xOVCeYXIIDOO"
      }
    },
    {
      "cell_type": "code",
      "source": [
        "#Conditional Execution...if statements\n",
        "\n",
        "import random\n",
        "\n",
        "actualNumber = random.randint(1,5)\n",
        "\n",
        "try:\n",
        "  practiceNumber = int(input('Choose a number 1-5? '))\n",
        "except:\n",
        "  practiceNumber = -1\n",
        "\n",
        "if practiceNumber < actualNumber and practiceNumber >=0:\n",
        "  print('Darn, that is too small! The number was:',  actualNumber)\n",
        "elif practiceNumber > actualNumber:\n",
        "  print('Darn, that is too big! The number was:', actualNumber)\n",
        "elif practiceNumber == actualNumber:\n",
        "  print('This number is just right!')\n",
        "else: print('You did not choose a number between 1-5!')\n"
      ],
      "metadata": {
        "colab": {
          "base_uri": "https://localhost:8080/"
        },
        "id": "CabrvSjVqoPN",
        "outputId": "631fabcd-1462-4b61-8c75-5edf792d4bc1"
      },
      "execution_count": null,
      "outputs": [
        {
          "output_type": "stream",
          "name": "stdout",
          "text": [
            "Choose a number 1-5? 3\n",
            "Darn, that is too small! The number was: 4\n"
          ]
        }
      ]
    },
    {
      "cell_type": "markdown",
      "source": [
        "##Many, many iterations: For loops\n",
        "\n",
        "Syntax:\n",
        "```\n",
        "for target in sequence:\n",
        "    DO THIS\n",
        "```\n",
        "\n",
        "*Note: there also exist while loops, but those are for another day*"
      ],
      "metadata": {
        "id": "zeyO1UstIluW"
      }
    },
    {
      "cell_type": "code",
      "source": [
        "# example iterating through first names of class?\n",
        "\n",
        "students = ['Areen', 'Paul', 'Chris', 'Anjik', 'Danny', 'Sparsha', 'Jensen', 'Ian', 'Spencer', 'Zhangyi']\n",
        "\n",
        "for student in students:\n",
        "  print(student)"
      ],
      "metadata": {
        "id": "g-jy60_lvgeT",
        "colab": {
          "base_uri": "https://localhost:8080/"
        },
        "outputId": "7c589af5-86eb-4e38-cabd-b50a636e9883"
      },
      "execution_count": null,
      "outputs": [
        {
          "output_type": "stream",
          "name": "stdout",
          "text": [
            "Areen\n",
            "Paul\n",
            "Chris\n",
            "Anjik\n",
            "Danny\n",
            "Sparsha\n",
            "Jensen\n",
            "Ian\n",
            "Spencer\n",
            "Zhangyi\n"
          ]
        }
      ]
    },
    {
      "cell_type": "markdown",
      "source": [
        "## Functions\n",
        "\n",
        "A **function** contains code to be stored and reused. A function is defined by giving it a name, followed by a specific sequence of statements (the code that will be computing), and potentially any values you want returned to the user. Since you define a function, you can later \"call\" it by name -- avoiding you from having to write long code over and over again. An example of a function we have already seen is the \"print\" function.\n",
        "\n",
        "- The expression in the parenthesis is the **argument**.\n",
        "- It is common to say that a function **\"takes\" an argument** and **\"returns\" a result**.\n",
        "- The result is called the **return value**.\n",
        "\n",
        "The first line of the function definition is called the header; the rest is called the body.\n",
        "\n",
        "The header has to end with a colon and the body has to be indented. It is a common practice to use 4 spaces for indentation, and to avoid mixing with tabs.\n",
        "\n",
        "Function body in Python ends whenever statement begins at the original level of indentation. There is no end or fed or any other identify to signal the end of function. Indentation is part of the the language syntax in Python, making it more readable and less cluttered."
      ],
      "metadata": {
        "id": "vPYLrNuXJQv-"
      }
    },
    {
      "cell_type": "code",
      "source": [
        "#Write a python function to find the maximum of three numbers\n",
        "\n",
        "def maxOfThreeNumbers(x,y,z):\n",
        "  if x > y and x > z:\n",
        "    return x\n",
        "  elif y > x and y > z:\n",
        "    return y\n",
        "  elif z > x and z > y:\n",
        "    return z\n",
        "\n",
        "print(maxOfThreeNumbers(10,3,13))\n"
      ],
      "metadata": {
        "colab": {
          "base_uri": "https://localhost:8080/"
        },
        "id": "jps1P656vv9k",
        "outputId": "cb9cb4a6-2e37-47f7-e657-8d5779bb0053"
      },
      "execution_count": null,
      "outputs": [
        {
          "output_type": "stream",
          "name": "stdout",
          "text": [
            "13\n"
          ]
        }
      ]
    },
    {
      "cell_type": "code",
      "source": [
        "#So how would you write a function that adds the numbers in a list?\n",
        "#hint: start with def addNumbersInAList(numbers)\n",
        "#hint: end with print(addNumbersInAList(2,4,1,8,9))"
      ],
      "metadata": {
        "id": "dHo2uEqX0ZWg"
      },
      "execution_count": null,
      "outputs": []
    },
    {
      "cell_type": "markdown",
      "source": [
        "##Scientific Computing in Python: NumPy\n",
        "\n",
        "According to [Packt Pub](https://subscription.packtpub.com/book/big-data-and-business-intelligence/9781783288823/1/ch01lvl1sec08/definition-of-scientific-computing), \"Scientific computing can also be called computational science or scientific computation. It is mainly the idea of development of mathematical models, use of quantitative analysis techniques, and use of computers for solving scientific problems.\" -- Gene H. Golub and James M. Ortega\n",
        "\n",
        "NumPy allows users to execute a variety of functions and operations on arrays and matrices efficently. As an example, NumPy can provide an array object 50x faster than a traditional Python list would be [(source)](https://www.w3schools.com/python/numpy/numpy_intro.asp). NumPy is equipped with a LOT of high-level mathematical functions. \n",
        "\n",
        "To use it, you would have to first import it into Python as below:\n",
        "```\n",
        "import numpy as np\n",
        "```\n",
        "\n",
        "NumPy’s main object is the homogeneous multidimensional array. It is a table of elements (usually numbers), all of the same type, indexed by a tuple of non-negative integers. In NumPy dimensions are called axes.\n",
        "\n",
        "NumPy’s array class is called `ndarray`. It is also known by the alias `array`. The more important attributes of an ndarray object are:\n",
        "\n",
        "- **ndarray.ndim**: the number of axes (dimensions) of the array.\n",
        "- **ndarray.shape**: the dimensions of the array. This is a tuple of integers indicating the size of the array in each dimension. For a matrix with n rows and m columns, shape will be `(n,m)`. The length of the `shape` tuple is therefore the number of axes, `ndim`.\n",
        "- **ndarray.size**: the total number of elements of the array. This is equal to the product of the elements of `shape`.\n",
        "- **ndarray.dtype**: an object describing the type of the elements in the array. One can create or specify dtype’s using standard Python types. Additionally NumPy provides types of its own. numpy.int32, numpy.int16, and numpy.float64 are some examples.\n",
        "- **ndarray.itemsize**: the size in bytes of each element of the array. For example, an array of elements of type `float64` has `itemsize` 8 (=64/8), while one of type `complex32` has `itemsize` 4 (=32/8). It is equivalent to `ndarray.dtype.itemsize`.\n",
        "- **ndarray.data**: the buffer containing the actual elements of the array. Normally, we won’t need to use this attribute because we will access the elements in an array using indexing facilities. "
      ],
      "metadata": {
        "id": "JFFStbdZLT6B"
      }
    },
    {
      "cell_type": "code",
      "source": [
        "##Examples with NumPy\n",
        "import numpy as np\n",
        "\n",
        "a = np.arange(15) #array of numbers 0 to 14\n",
        "\n",
        "print(a)\n",
        "print(a.shape)\n",
        "print(a.ndim)\n",
        "print(a.dtype.name)\n",
        "print(a.itemsize)\n",
        "print(a.size)\n",
        "print(type(a))"
      ],
      "metadata": {
        "id": "VjQHc1LpNVto",
        "colab": {
          "base_uri": "https://localhost:8080/"
        },
        "outputId": "9456294b-966c-4222-b689-292b87fd7496"
      },
      "execution_count": null,
      "outputs": [
        {
          "output_type": "stream",
          "name": "stdout",
          "text": [
            "[ 0  1  2  3  4  5  6  7  8  9 10 11 12 13 14]\n",
            "(15,)\n",
            "1\n",
            "int64\n",
            "8\n",
            "15\n",
            "<class 'numpy.ndarray'>\n"
          ]
        }
      ]
    },
    {
      "cell_type": "markdown",
      "source": [
        "Potential Cool Application: https://colab.research.google.com/github/brainhack-uiowa/python-novice-inflammation-colab/blob/master/09_Neuroimaging_Overview_Nilearn_DataEx.ipynb#scrollTo=v2JNAAocefyB\n",
        "\n",
        "https://brainhack101.github.io/introML-book/01/MAIN_tutorial_intro_to_nilearn"
      ],
      "metadata": {
        "id": "iR1cBrOg99PT"
      }
    }
  ]
}