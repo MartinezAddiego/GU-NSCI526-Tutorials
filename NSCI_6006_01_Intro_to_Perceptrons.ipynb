{
  "nbformat": 4,
  "nbformat_minor": 0,
  "metadata": {
    "colab": {
      "provenance": [],
      "authorship_tag": "ABX9TyNDR9y+NUk3Qio9kjeKWSja",
      "include_colab_link": true
    },
    "kernelspec": {
      "name": "python3",
      "display_name": "Python 3"
    },
    "language_info": {
      "name": "python"
    }
  },
  "cells": [
    {
      "cell_type": "markdown",
      "metadata": {
        "id": "view-in-github",
        "colab_type": "text"
      },
      "source": [
        "<a href=\"https://colab.research.google.com/github/MartinezAddiego/GU-NSCI526-Tutorials/blob/main/NSCI_6006_01_Intro_to_Perceptrons.ipynb\" target=\"_parent\"><img src=\"https://colab.research.google.com/assets/colab-badge.svg\" alt=\"Open In Colab\"/></a>"
      ]
    },
    {
      "cell_type": "markdown",
      "source": [
        "### Introduction To Perceptrons\n",
        "\n",
        "Flo Martinez Addiego (fam53@georgetown.edu)\n",
        "\n",
        "NSCI-6006-01 Computational Neuroscience\n",
        "\n",
        "Class taught by Dr. Maximilian Riesenhuber\n",
        "\n",
        "Georgetown University"
      ],
      "metadata": {
        "id": "uHnC7Lhh6tsT"
      }
    },
    {
      "cell_type": "markdown",
      "source": [
        "### Background Information\n",
        "\n",
        "From Max's second lecture, he talks about how if we want to describe the brain as a computer, then we should be able to understand what a single neuron can do by itself and then as a group.\n",
        "\n",
        "We know from the first lecture (and the reminder from the second lecture!) that biologically a neuron will take in a bunch of inputs and, based on different spatial and temporal properties of these inputs, will sum the inputs together.\n",
        "\n",
        "If the sum is greater than some value (the threshold!), it triggers an action potential and produces an output! If not, it doesn't.\n",
        "\n",
        "\n",
        "<img src='https://www.moleculardevices.com/applications/patch-clamp-electrophysiology/media_1c6efa9f5f7a50e4dab68c492527445b7fdabda54.jpeg?width=750&format=jpeg&optimize=medium'></img>\n",
        "\n",
        "\n",
        "The operation that is happening for the neuron to fire (spike) or not is inherently non-linear because it is dependent on a threshold.\n",
        "\n",
        "This is all well and good, but how might we represent this computationally? Enter Rosenblatt's Perceptron (1958):\n",
        "\n",
        "<img src='https://www.oreilly.com/api/v2/epubs/9781788990547/files/assets/36bb334b-4393-4c4c-82a8-ecac23d4ac70.png'></img>\n",
        "\n",
        "The idea being shown in this image is that we have a series of inputs (I_1 to I_N) that are each going to be multiplied by their own weights (W_1 to W_N). This will give us N individual values which are then summed together. If this sum surpasses a threshold, then we will see the output y.\n",
        "\n",
        "\n",
        "Mathematically, this may be represented as:\n",
        "\\begin{align}\n",
        "        \\sum_{i=1}^n x_i w_i\n",
        "    \\end{align}\n",
        "\n",
        "(dot product of the weights and the corresponding input)"
      ],
      "metadata": {
        "id": "VDr6TMmr8EfR"
      }
    },
    {
      "cell_type": "markdown",
      "source": [
        "### Rosenblatt's Perceptron (1958): What does it really DO?\n",
        "\n",
        "The perceptron will solve any linearly separable problem by dividing the representational space into two fields - one that leads to a classification class of 1 and the other that leads to a classification class of 0, for example. It does this by finding a hyperplane in n-dimensional space.\n",
        "\n",
        "The perceptron was revolutionary because it was able to actually \"learn\" -- given the labels for a series of training images, a perceptron would aim to figure out the generalizable hyperplane that would allow it to solve this problem for unknown data such that it would produce the correct output (identify the correct class).\n",
        "\n",
        "### How does it do this?\n",
        "\n",
        "The perceptron will use an algorithm to modify its weights, ultimately hopefully learning the correct ones.\n",
        "\n",
        "Let's again show this mathematically -\n",
        "\n",
        "\\begin{align}\n",
        "        w_{ji} = w_{ji} + \\eta(y_j -ypred_j)*ypred_i\n",
        "    \\end{align}\n",
        "\n",
        "In this case, we are showing that the weights are being updated after an attempt using both a learning rate (defines how much of a change to make) and the difference between the actual value and the predicted value.\n",
        "\n",
        "As we learn, we want to be able to decrease the training set error.\n",
        "\n",
        "### Now, let's go ahead and simulate this with some code..."
      ],
      "metadata": {
        "id": "S_vidUPw9vkH"
      }
    },
    {
      "cell_type": "code",
      "source": [
        "#importing different python libraries with their own functionalities\n",
        "import numpy as np\n",
        "import matplotlib.pyplot as plt\n",
        "import math\n",
        "import copy"
      ],
      "metadata": {
        "id": "LffHWOwO8CAB"
      },
      "execution_count": 51,
      "outputs": []
    },
    {
      "cell_type": "markdown",
      "source": [
        "Let's first generate a series of inputs and weights (assume that we have three inputs and they will each have their own weight)"
      ],
      "metadata": {
        "id": "hnmW1GCpCdEB"
      }
    },
    {
      "cell_type": "code",
      "source": [
        "inputs = np.array([0.1, 0.5, 0.2])\n",
        "weights = np.array([0.4, 0.3, 0.6])"
      ],
      "metadata": {
        "id": "gvE7HZWiCHeg"
      },
      "execution_count": null,
      "outputs": []
    },
    {
      "cell_type": "markdown",
      "source": [
        "Now, we need to take the dot product of each of these weights, following the equation:\n",
        "\n",
        "\\begin{align}\n",
        "        \\sum_{i=1}^n x_i w_i\n",
        "    \\end{align}\n",
        "\n",
        "\n",
        "** note that this is just the sum of the individual products...I will show it both ways to convince you :)"
      ],
      "metadata": {
        "id": "OizTOIy2Cka5"
      }
    },
    {
      "cell_type": "code",
      "source": [
        "# in this cell, I am creating an empty list to store the mutliplicative values. Then I will iterate through all the numbers in inputs and multiply the input with its corresponding weight\n",
        "# in the end, I will sum all the values and this will be the weighted sum\n",
        "store_vals = []\n",
        "for val in np.arange(len(inputs)):\n",
        "  hold = inputs[val]*weights[val]\n",
        "  store_vals.append(hold)\n",
        "\n",
        "np.sum(store_vals)"
      ],
      "metadata": {
        "colab": {
          "base_uri": "https://localhost:8080/"
        },
        "id": "mkF8c_9IDByT",
        "outputId": "c3282898-8537-4339-8e4a-298f1546c0b2"
      },
      "execution_count": null,
      "outputs": [
        {
          "output_type": "execute_result",
          "data": {
            "text/plain": [
              "0.31"
            ]
          },
          "metadata": {},
          "execution_count": 41
        }
      ]
    },
    {
      "cell_type": "code",
      "source": [
        "#Thankfully, we don't always have to do this! We can use the built-in function from numpy (np.dot) and it will do the exact same thing...compare the outputs for yourselves :)\n",
        "dot_prod_output = np.dot(inputs,weights)\n",
        "print(dot_prod_output)"
      ],
      "metadata": {
        "colab": {
          "base_uri": "https://localhost:8080/"
        },
        "id": "KcFNxjltDHFE",
        "outputId": "529c1fcd-885b-47b5-cd68-69e5223b9c83"
      },
      "execution_count": null,
      "outputs": [
        {
          "output_type": "stream",
          "name": "stdout",
          "text": [
            "0.31\n"
          ]
        }
      ]
    },
    {
      "cell_type": "markdown",
      "source": [
        "Great! Now we need to decide what our threshold is...\n",
        "Following the logic from the Rosenblatt perceptron, let's create a step function.\n",
        "\n",
        "In this function if the value is less than the threshold, we will get no output (zero). Else, if the value is greater than the threshold, we will get an output (one)"
      ],
      "metadata": {
        "id": "Z1IBFPpRD9P-"
      }
    },
    {
      "cell_type": "code",
      "source": [
        "chosen_threshold = 1"
      ],
      "metadata": {
        "id": "4lxUdcY-DWH8"
      },
      "execution_count": 4,
      "outputs": []
    },
    {
      "cell_type": "markdown",
      "source": [
        "To build some intuition for what this might look like, let's go ahead and plot the function below:"
      ],
      "metadata": {
        "id": "9n5ldeSGIrKY"
      }
    },
    {
      "cell_type": "code",
      "source": [
        "\n",
        "# Define the Heaviside function\n",
        "def heaviside(x):\n",
        "    return np.heaviside(x-chosen_threshold, 1)\n",
        "\n",
        "# Generate values for x\n",
        "x = np.linspace(-5, 5, 1000)\n",
        "y = heaviside(x)\n",
        "\n",
        "# Create the plot\n",
        "plt.plot(x, y, label=\"Heaviside Function\")\n",
        "plt.title(\"Heaviside Step Function\")\n",
        "plt.xlabel(\"x\")\n",
        "plt.ylabel(\"H(x)\")\n",
        "plt.grid(False)\n",
        "plt.axhline(0, color='black',linewidth=0.5)\n",
        "plt.axvline(0, color='black',linewidth=0.5)\n",
        "plt.legend()\n",
        "plt.show()"
      ],
      "metadata": {
        "colab": {
          "base_uri": "https://localhost:8080/",
          "height": 472
        },
        "id": "A2SMFE_wImxB",
        "outputId": "ee9798b1-93b4-45b0-a5ed-66eb911f7ceb"
      },
      "execution_count": null,
      "outputs": [
        {
          "output_type": "display_data",
          "data": {
            "text/plain": [
              "<Figure size 640x480 with 1 Axes>"
            ],
            "image/png": "[encoded data removed]"
          },
          "metadata": {}
        }
      ]
    },
    {
      "cell_type": "code",
      "source": [
        "def activation_function(dot_product):\n",
        "  if dot_product > chosen_threshold:\n",
        "    return 1\n",
        "  else:\n",
        "    return 0"
      ],
      "metadata": {
        "id": "kv3qUynVEvsJ"
      },
      "execution_count": null,
      "outputs": []
    },
    {
      "cell_type": "code",
      "source": [
        "# let's now go ahead and put this all together\n",
        "\n",
        "def perceptron(x_input,w_weight):\n",
        "  dot_product_output = np.dot(x_input,w_weight)\n",
        "  fire = activation_function(dot_product_output)\n",
        "  return fire\n"
      ],
      "metadata": {
        "id": "O0JgF_5QFJmL"
      },
      "execution_count": null,
      "outputs": []
    },
    {
      "cell_type": "code",
      "source": [
        "output = perceptron(inputs,weights)\n",
        "if output == 0:\n",
        "  print(\"Our perceptron didn't fire!\")\n",
        "else:\n",
        "  print(\"Our perceptron fired!\")"
      ],
      "metadata": {
        "colab": {
          "base_uri": "https://localhost:8080/"
        },
        "id": "sqVeRV5jFju7",
        "outputId": "420b6ad6-deed-43b3-f1bb-8eebaa61b0c2"
      },
      "execution_count": null,
      "outputs": [
        {
          "output_type": "stream",
          "name": "stdout",
          "text": [
            "Our perceptron didn't fire!\n"
          ]
        }
      ]
    },
    {
      "cell_type": "markdown",
      "source": [
        "### Logistic Regression for Classification:\n",
        "\n",
        "Linear regression is just not a good function or algorithm for classification. Why?\n",
        "\n",
        "Well, let's consider the input/output of a linear regression. Linear regression takes in (and gives out) continuous variables. But, this isn't what we want in a classification. Instead, we want to have a **discrete output.**\n",
        "\n",
        "The output of logistic regression is binary (0 or 1), making it a great choice for a two-class solution. Specifically, we will use a **sigmoid function**, which you might remember as a smooth version of the step function (heaviside function).\n",
        "\n",
        "To build some intution for the logistic regression function, let's go ahead and plot it.\n",
        "\n",
        "The equation for a sigmoid is:\n",
        "\n",
        "\\begin{align}\n",
        "        S(x) = \\frac{1}{1+e^{-x}}\n",
        "    \\end{align}"
      ],
      "metadata": {
        "id": "pJHxFECqn_Ss"
      }
    },
    {
      "cell_type": "code",
      "source": [
        "# Define the Sigmoid function (for our chosen threshold)\n",
        "def sigmoid_func(x):\n",
        "  y_val = []\n",
        "  for x_val in np.arange(len(x)):\n",
        "    y_val.append((1)/(1+math.exp(-x[x_val] + chosen_threshold)))\n",
        "  return y_val\n",
        "\n",
        "# Generate values for x\n",
        "x = np.linspace(-5, 5, 1000)\n",
        "y = sigmoid_func(x)\n",
        "\n",
        "# Create the plot\n",
        "plt.plot(x, y, label=\"Sigmoid Function\")\n",
        "plt.title(\"Sigmoid Function\")\n",
        "plt.xlabel(\"x\")\n",
        "plt.ylabel(\"S(x)\")\n",
        "plt.grid(False)\n",
        "plt.axhline(0, color='black',linewidth=0.5)\n",
        "plt.axvline(0, color='black',linewidth=0.5)\n",
        "plt.legend()\n",
        "plt.show()"
      ],
      "metadata": {
        "colab": {
          "base_uri": "https://localhost:8080/",
          "height": 472
        },
        "id": "iLw8GB88u84W",
        "outputId": "3eac77bf-2b36-4c7c-bb45-26f3c5daa8b6"
      },
      "execution_count": 5,
      "outputs": [
        {
          "output_type": "display_data",
          "data": {
            "text/plain": [
              "<Figure size 640x480 with 1 Axes>"
            ],
            "image/png": "[encoded data removed]"
          },
          "metadata": {}
        }
      ]
    },
    {
      "cell_type": "markdown",
      "source": [
        "### The sigmoid function is what we will use as our \"activation\" function.\n",
        "\n",
        "The activation function tells us whether or not our perceptron fires."
      ],
      "metadata": {
        "id": "7sPwXY76u76x"
      }
    },
    {
      "cell_type": "markdown",
      "source": [
        "You'll probably remember from your lecture with Max (and what I hopefully was able to remind you of above), that one big benefit to perceptron's is that they learn, so they are able to update their weights to get a more accurate prediction."
      ],
      "metadata": {
        "id": "oIo2G0zcGmgw"
      }
    },
    {
      "cell_type": "markdown",
      "source": [
        "### Let's now incorporate some learning...\n",
        "\n",
        "Conceptually, what exactly is missing for us to be able to do this?\n",
        "If you remember, Max mentioned in his lecture that the way a perceptron learns is through \"supervised learning\".\n",
        "\n",
        "*Supervised learning* is when a model learns with explicit labels. In this way, supervised learning uses labeled datasets to train algorithms to predict outcomes and recognize patterns.\n",
        "\n",
        "As an example, suppose that we have a perceptron trying to learn to correctly classify dogs and cats. You can imagine that we have a real, actual y-values (the target label that we are trying to predict). The perceptron will make its own prediction (y-pred). Let's say that the perceptron is presented with the image of a dog (label 1), but it misclassifies it as a cat (label 0). For the model to be able to \"learn\", it needs to compare its prediction from the actual target....**but how do we actually make this happen**?\n",
        "\n",
        "In comes the **Cost Function** (aka Loss Function, error function)"
      ],
      "metadata": {
        "id": "wg0VE5c_RhjK"
      }
    },
    {
      "cell_type": "markdown",
      "source": [
        "### The Cost Function\n",
        "\n",
        "The cost function gives a way to qauntify the performance of the model given some data by looking at the difference between the predicted and the expected values. Importantly, the cost function is different depending on which type of model we are using for the data (which makes sense).\n",
        "\n",
        "We can write this generally with the mathematical equation:\n",
        "\n",
        "\\begin{align}\n",
        "        Loss = abs(y_{pred} - y_{actual})\n",
        "    \\end{align}\n"
      ],
      "metadata": {
        "id": "J3r8sDZmlMab"
      }
    },
    {
      "cell_type": "markdown",
      "source": [
        "\n",
        "### For this kind of problem, we want to use the log loss, or the Cross Entropy Loss, function.\n",
        "\n",
        "It is defined mathematically as:\n",
        "\n",
        "\\begin{align}\n",
        "        \\frac{1}{N}\\sum_{i=1}^N -(y_i*log(y_{pred}) + (1-y_i)*log(1-y_{pred}))\n",
        "    \\end{align}\n",
        "\n",
        "\n",
        "Let's build some intuition for why this works -- pardon the math.\n",
        "\n",
        "What happens in the case that the target class y_i is 1?\n",
        "\n",
        "Let's plug it in...:\n",
        "\\begin{align}\n",
        "        \\frac{1}{N}\\sum_{i=1}^N -(1*log(y_{pred}) + (1-1)*log(1-y_{pred}))\n",
        "    \\end{align}\n",
        "\n",
        "\n",
        "Which can be re-written as:\n",
        "\n",
        "\\begin{align}\n",
        "        \\frac{1}{N}\\sum_{i=1}^N -(1*log(y_{pred}) + 0*log(1-y_{pred}))\n",
        "    \\end{align}\n",
        "\n",
        "\n",
        "\\begin{align}\n",
        "        \\frac{1}{N}\\sum_{i=1}^N -(1*log(y_{pred}))\n",
        "    \\end{align}\n",
        "\n",
        "\n",
        "Otherwise if the target class is zero:\n",
        "\n",
        "\\begin{align}\n",
        "        \\frac{1}{N}\\sum_{i=1}^N -(0*log(y_{pred}) + (1-0)*log(1-y_{pred}))\n",
        "    \\end{align}\n",
        "\n",
        "\\begin{align}\n",
        "        \\frac{1}{N}\\sum_{i=1}^N -(0 + (1)*log(1-y_{pred}))\n",
        "    \\end{align}\n",
        "\n",
        "\n",
        "\\begin{align}\n",
        "        \\frac{1}{N}\\sum_{i=1}^N -(1)*log(1-y_{pred})\n",
        "    \\end{align}\n",
        "\n",
        "\n",
        "\n",
        "I know this is a lot...thankfully we can simplify it a little bit. If instead of taking the overall cost (across all training samples), we take the cost at each training sample, then this equation looks a little less scary.\n",
        "\n",
        "\\begin{align}\n",
        "        -(y*log(y_{pred}) + (1-y)*log(1-y_{pred}))\n",
        "    \\end{align}\n",
        "\n",
        "\n",
        "The way we will incorporate this to arrive at the more complicated/scary equation is by calculating the loss at each inidvidual training sample, adding them all together, and then dividing by the \"n\" training samples...This is just the average entropy :)"
      ],
      "metadata": {
        "id": "flmakCLxtBDm"
      }
    },
    {
      "cell_type": "code",
      "source": [
        "def sigmoid(z):\n",
        "  pred = 1/(1+math.exp(-z))\n",
        "  return pred\n"
      ],
      "metadata": {
        "id": "1t5IUPXe1lRt"
      },
      "execution_count": 9,
      "outputs": []
    },
    {
      "cell_type": "code",
      "source": [
        "# To make this a little more realistic, let's start with some code implementation\n",
        "\n",
        "def compute_cost_lr(X,y,w):\n",
        "  \"\"\"\n",
        "  Computes cost for a logistic regression function\n",
        "  Inputs:\n",
        "    X (ndarray with shape (m,n)): Data: we have m examples with n features (this is equivalent to having x_1, x_2)\n",
        "    y (ndarray with shape (m,)): Target or \"real\" y values\n",
        "    w (ndarray (n,)): model parameters of weights\n",
        "  Outputs:\n",
        "    cost (scalar): will return the average cost as explained above\n",
        "  \"\"\"\n",
        "  m = X.shape[0]\n",
        "  cost = 0.0 #starting point for our cost function (we haven't given anything, so it's zero)\n",
        "\n",
        "  # now we will calculate the cost per each training sample\n",
        "  for i in range(m):\n",
        "    z_i = np.dot(X[i],w)\n",
        "    y_pred = sigmoid(z_i)\n",
        "    # add the cost for each of these iterations\n",
        "    cost += -(y[i]*np.log(y_pred) + (1-y[i])*np.log(1-y_pred))\n",
        "    #print('The individual loss value at this iteration is: ', (-(y[i]*np.log(y_pred) + (1-y[i])*np.log(1-y_pred))))\n",
        "  cost = cost/m # total number of training samples\n",
        "  return cost"
      ],
      "metadata": {
        "id": "GyaUjZEhtAK2"
      },
      "execution_count": 16,
      "outputs": []
    },
    {
      "cell_type": "code",
      "source": [
        "X_vals = np.array([[0.5,1.5],[1,1],[1.5,0.5],[3,0.5],[2,2],[1,2.5]])\n",
        "y_vals = np.array([1,0,0,1,1,1])\n",
        "w_test = np.array([0,0])"
      ],
      "metadata": {
        "id": "LBEbZ84PrvQh"
      },
      "execution_count": 43,
      "outputs": []
    },
    {
      "cell_type": "code",
      "source": [
        "print(compute_cost_lr(X_vals,y_vals,w_test))"
      ],
      "metadata": {
        "colab": {
          "base_uri": "https://localhost:8080/"
        },
        "id": "tEYcvCsd0TcQ",
        "outputId": "048c90fc-7d19-47b8-e08e-a447520063af"
      },
      "execution_count": 44,
      "outputs": [
        {
          "output_type": "stream",
          "name": "stdout",
          "text": [
            "0.6931471805599453\n"
          ]
        }
      ]
    },
    {
      "cell_type": "markdown",
      "source": [
        "### Implementing the Cost Function\n",
        "\n",
        "At this point, we have calculated the overall cost, but for us to be able to learn, we really need to be able to update the weights.\n",
        "\n",
        "To update the weights, we will use something called \"gradient descent\". Gradient descent is an **optimization** algorithm used by machine learning that allows us to continuously minimize the loss or the cost. It does this by leveraging a convex function so that we can minimize the loss in what is hopefully the most optimal/efficient way.\n",
        "\n",
        "How does this actually happen?\n",
        "\n",
        "We start off at some arbitrary point point and evaluate the performance (compute the cost). Then at that point, we need to find derivative (more accurately the partial derivative) and move towards a cost of zero. To be able to minimize the cost function, we need two parameters:\n",
        "1. The cost function (of course!)\n",
        "2. The learning rate (typically a small value)\n",
        "\n",
        "That is, we want to take the derivative of the cost function with respect to the weights, leaving us with the following simplified equation:\n",
        "\n",
        "\\begin{align}\n",
        "        w_{j} = w_{j} - η*(∂J(w)/∂w_{j})\n",
        "    \\end{align}\n",
        "\n",
        "In this instance the \"eta\" is our learning rate. Please don't get too bogged down in the math details, which I will skip for now, but the equation above can be rewritten as:\n",
        "\n",
        "\n",
        "\\begin{align}\n",
        "        w_{j} = w_{j} - η*((y_{pred} - y_{target})*X_{i})\n",
        "    \\end{align}\n",
        "\n",
        "This is just one instance of caclulating the gradient (derivative) at one iteration. We need to do this for all our iterations and then take the average. We can then apply this to our weights where we must update the weights all together.\n",
        "\n",
        "Let's break this down into two differen tparts where we first compute the gradient (right hand side of the equation) and then we update our weights (left hand side of the equation)"
      ],
      "metadata": {
        "id": "q76R_IVXxN-m"
      }
    },
    {
      "cell_type": "code",
      "source": [
        "# here is some code:\n",
        "\n",
        "def compute_gradient_lr(X,y,w):\n",
        "  \"\"\"\n",
        "  Computes gradient for a logistic regression function\n",
        "  Inputs:\n",
        "    X (ndarray with shape (m,n)): Data: we have m examples with n features (this is equivalent to having x_1, x_2)\n",
        "    y (ndarray with shape (m,)): Target or \"real\" y values\n",
        "    w (ndarray (n,)): model parameters of weights\n",
        "  Outputs:\n",
        "    dj_dw (ndarray with shape (n,)): The gradient of the cost function w.r.t parameter w\n",
        "  \"\"\"\n",
        "\n",
        "  m,n = X.shape # let's get the m examples and the n features...\n",
        "\n",
        "  djdw = np.zeros((n,)) # our partial derivative starts off at zero with the length of the number of features that we have\n",
        "\n",
        "  # iterate through all our examples\n",
        "  for i in range(m):\n",
        "    z_i = np.dot(X[i],w)\n",
        "    y_pred = sigmoid(z_i)\n",
        "    error_i = y_pred - y[i]\n",
        "\n",
        "    # now iterate through all our features so that we can compute our gradients!\n",
        "    for j in range(n):\n",
        "      djdw[j] = djdw[j] +error_i * X[i,j]\n",
        "  djdw = djdw/m\n",
        "  return djdw"
      ],
      "metadata": {
        "id": "ymrVm-r722Da"
      },
      "execution_count": 45,
      "outputs": []
    },
    {
      "cell_type": "code",
      "source": [
        "print(compute_gradient_lr(X_vals,y_vals,w_test))\n",
        "# Note that we example has two weights because we have two features"
      ],
      "metadata": {
        "id": "NGX2aASM0UAv",
        "colab": {
          "base_uri": "https://localhost:8080/"
        },
        "outputId": "a636ac67-aad8-4fd0-9688-9e4ae8a0fce2"
      },
      "execution_count": 46,
      "outputs": [
        {
          "output_type": "stream",
          "name": "stdout",
          "text": [
            "[-0.33333333 -0.41666667]\n"
          ]
        }
      ]
    },
    {
      "cell_type": "markdown",
      "source": [
        "Though this is the right start (and we are certainly on our way!) we need to apply our computed gradients to our function.\n",
        "\n",
        "Let's go ahead and do gradient descent."
      ],
      "metadata": {
        "id": "Tx2fsTVz-gPZ"
      }
    },
    {
      "cell_type": "code",
      "source": [
        "## Here's some more code :)\n",
        "\n",
        "def gradient_descent_lr(X,y,w,alpha,num_iters):\n",
        "    \"\"\"\n",
        "    Performs batch gradient descent\n",
        "\n",
        "    Args:\n",
        "      X (ndarray (m,n)   : Data, m examples with n features\n",
        "      y (ndarray (m,))   : target or \"real\" y values\n",
        "      w (ndarray (n,)): model parameters for weights\n",
        "      alpha (float)      : Learning rate (earlier referred to as eta)\n",
        "      num_iters (scalar) : number of iterations to run gradient descent\n",
        "\n",
        "    Returns:\n",
        "      w (ndarray (n,))   : Updated values of parameters\n",
        "    \"\"\"\n",
        "    # store the cost over time so that we can graph this\n",
        "    J_history = []\n",
        "    w_init = copy.deepcopy(w)\n",
        "    for i in range(num_iters):\n",
        "      djdw = compute_gradient_lr(X,y,w_init)\n",
        "      # update the parameters\n",
        "      w_init = w_init - alpha*djdw\n",
        "\n",
        "      # save the cost J at each iteration\n",
        "      if i < 100000:\n",
        "        J_history.append(compute_cost_lr(X,y,w_init))\n",
        "\n",
        "      # Print cost every at intervals 10 times or as many iterations if < 10\n",
        "      if i% math.ceil(num_iters / 10) == 0:\n",
        "          print(f\"Iteration {i:4d}: Cost {J_history[-1]}   \")\n",
        "    return w_init, J_history"
      ],
      "metadata": {
        "id": "W_BbullH9cST"
      },
      "execution_count": 52,
      "outputs": []
    },
    {
      "cell_type": "code",
      "source": [
        "w_updated,_ = gradient_descent_lr(X_vals,y_vals,w_test,0.025,10000)"
      ],
      "metadata": {
        "colab": {
          "base_uri": "https://localhost:8080/"
        },
        "id": "j0M_thZcBCpt",
        "outputId": "93f5f4f6-885c-43ab-aaa9-c87a813128e4"
      },
      "execution_count": 53,
      "outputs": [
        {
          "output_type": "stream",
          "name": "stdout",
          "text": [
            "Iteration    0: Cost 0.6861240646037278   \n",
            "Iteration 1000: Cost 0.5269085515789192   \n",
            "Iteration 2000: Cost 0.5268778795276893   \n",
            "Iteration 3000: Cost 0.5268778424803225   \n",
            "Iteration 4000: Cost 0.5268778424349922   \n",
            "Iteration 5000: Cost 0.5268778424349366   \n",
            "Iteration 6000: Cost 0.5268778424349366   \n",
            "Iteration 7000: Cost 0.5268778424349366   \n",
            "Iteration 8000: Cost 0.5268778424349366   \n",
            "Iteration 9000: Cost 0.5268778424349366   \n"
          ]
        }
      ]
    },
    {
      "cell_type": "markdown",
      "source": [
        "You might notice that our model isn't erally doing that well...it's okay. This is for demonstration purposes. I will also point out that we don't have a \"bias\" term."
      ],
      "metadata": {
        "id": "71gUGslpCt8t"
      }
    },
    {
      "cell_type": "code",
      "source": [],
      "metadata": {
        "id": "r8zxUydCBUsz"
      },
      "execution_count": null,
      "outputs": []
    }
  ]
}