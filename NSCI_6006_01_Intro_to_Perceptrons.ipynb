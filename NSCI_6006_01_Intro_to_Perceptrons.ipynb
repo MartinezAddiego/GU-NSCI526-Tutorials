{
  "nbformat": 4,
  "nbformat_minor": 0,
  "metadata": {
    "colab": {
      "provenance": []
    },
    "kernelspec": {
      "name": "python3",
      "display_name": "Python 3"
    },
    "language_info": {
      "name": "python"
    }
  },
  "cells": [
    {
      "cell_type": "markdown",
      "source": [
        "### Introduction To Perceptrons\n",
        "\n",
        "Flo Martinez Addiego (fam53@georgetown.edu)\n",
        "\n",
        "NSCI-6006-01 Computational Neuroscience\n",
        "\n",
        "Class taught by Dr. Maximilian Riesenhuber\n",
        "\n",
        "Georgetown University"
      ],
      "metadata": {
        "id": "uHnC7Lhh6tsT"
      }
    },
    {
      "cell_type": "markdown",
      "source": [
        "### Background Information\n",
        "\n",
        "From Max's second lecture, he talks about how if we want to describe the brain as a computer, then we should be able to understand what a single neuron can do by itself and then as a group.\n",
        "\n",
        "We know from the first lecture (and the reminder from the second lecture!) that biologically a neuron will take in a bunch of inputs and, based on different spatial and temporal properties of these inputs, will sum the inputs together.\n",
        "\n",
        "If the sum is greater than some value (the threshold!), it triggers an action potential and produces an output! If not, it doesn't.\n",
        "\n",
        "\n",
        "<img src='https://www.moleculardevices.com/applications/patch-clamp-electrophysiology/media_1c6efa9f5f7a50e4dab68c492527445b7fdabda54.jpeg?width=750&format=jpeg&optimize=medium'></img>\n",
        "\n",
        "\n",
        "The operation that is happening for the neuron to fire (spike) or not is inherently non-linear because it is dependent on a threshold.\n",
        "\n",
        "This is all well and good, but how might we represent this computationally? Enter Rosenblatt's Perceptron (1958):\n",
        "\n",
        "<img src='https://www.oreilly.com/api/v2/epubs/9781788990547/files/assets/36bb334b-4393-4c4c-82a8-ecac23d4ac70.png'></img>\n",
        "\n",
        "The idea being shown in this image is that we have a series of inputs (I_1 to I_N) that are each going to be multiplied by their own weights (W_1 to W_N). This will give us N individual values which are then summed together. If this sum surpasses a threshold, then we will see the output y.\n",
        "\n",
        "\n",
        "Mathematically, this may be represented as:\n",
        "\\begin{align}\n",
        "        \\sum_{i=1}^n x_i w_i\n",
        "    \\end{align}\n",
        "\n",
        "(dot product of the weights and the corresponding input)"
      ],
      "metadata": {
        "id": "VDr6TMmr8EfR"
      }
    },
    {
      "cell_type": "markdown",
      "source": [
        "### Rosenblatt's Perceptron (1958): What does it really DO?\n",
        "\n",
        "The perceptron will solve any linearly separable problem by dividing the representational space into two fields - one that leads to a classification class of 1 and the other that leads to a classification class of 0, for example. It does this by finding a hyperplane in n-dimensional space.\n",
        "\n",
        "The perceptron was revolutionary because it was able to actually \"learn\" -- given the labels for a series of training images, a perceptron would aim to figure out the generalizable hyperplane that would allow it to solve this problem for unknown data such that it would produce the correct output (identify the correct class).\n",
        "\n",
        "### How does it do this?\n",
        "\n",
        "The perceptron will use an algorithm to modify its weights, ultimately hopefully learning the correct ones.\n",
        "\n",
        "Let's again show this mathematically -\n",
        "\n",
        "\\begin{align}\n",
        "        w_{ji} = w_{ji} + \\eta(y_j -ypred_j)*ypred_i\n",
        "    \\end{align}\n",
        "\n",
        "In this case, we are showing that the weights are being updated after an attempt using both a learning rate (defines how much of a change to make) and the difference between the actual value and the predicted value.\n",
        "\n",
        "As we learn, we want to be able to decrease the training set error.\n",
        "\n",
        "### Now, let's go ahead and simulate this with some code..."
      ],
      "metadata": {
        "id": "S_vidUPw9vkH"
      }
    },
    {
      "cell_type": "code",
      "source": [
        "import numpy as np"
      ],
      "metadata": {
        "id": "LffHWOwO8CAB"
      },
      "execution_count": 4,
      "outputs": []
    },
    {
      "cell_type": "markdown",
      "source": [
        "Let's first generate a series of inputs and weights (assume that we have three inputs and they will each have their own weight)"
      ],
      "metadata": {
        "id": "hnmW1GCpCdEB"
      }
    },
    {
      "cell_type": "code",
      "source": [
        "inputs = np.array([0.1, 0.5, 0.2])\n",
        "weights = np.array([0.4, 0.3, 0.6])"
      ],
      "metadata": {
        "id": "gvE7HZWiCHeg"
      },
      "execution_count": 7,
      "outputs": []
    },
    {
      "cell_type": "markdown",
      "source": [
        "Now, we need to take the dot product of each of these weights, following the equation:\n",
        "\n",
        "\\begin{align}\n",
        "        \\sum_{i=1}^n x_i w_i\n",
        "    \\end{align}\n",
        "\n",
        "\n",
        "** note that this is just the sum of the individual products...I will show it both ways to convince you :)"
      ],
      "metadata": {
        "id": "OizTOIy2Cka5"
      }
    },
    {
      "cell_type": "code",
      "source": [
        "# in this cell, I am creating an empty list to store the mutliplicative values. Then I will iterate through all the numbers in inputs and multiply the input with its corresponding weight\n",
        "# in the end, I will sum all the values and this will be the weighted sum\n",
        "store_vals = []\n",
        "for val in np.arange(len(inputs)):\n",
        "  hold = inputs[val]*weights[val]\n",
        "  store_vals.append(hold)\n",
        "\n",
        "np.sum(store_vals)"
      ],
      "metadata": {
        "colab": {
          "base_uri": "https://localhost:8080/"
        },
        "id": "mkF8c_9IDByT",
        "outputId": "6faba244-6571-459b-f8ac-b49db923b17b"
      },
      "execution_count": 22,
      "outputs": [
        {
          "output_type": "execute_result",
          "data": {
            "text/plain": [
              "0.31"
            ]
          },
          "metadata": {},
          "execution_count": 22
        }
      ]
    },
    {
      "cell_type": "code",
      "source": [
        "#Thankfully, we don't always have to do this! We can use the built-in function from numpy (np.dot) and it will do the exact same thing...compare the outputs for yourselves :)\n",
        "dot_prod_output = np.dot(inputs,weights)\n",
        "print(dot_prod_output)"
      ],
      "metadata": {
        "colab": {
          "base_uri": "https://localhost:8080/"
        },
        "id": "KcFNxjltDHFE",
        "outputId": "e14fff28-8422-4a78-9b37-8c358be80a00"
      },
      "execution_count": 23,
      "outputs": [
        {
          "output_type": "stream",
          "name": "stdout",
          "text": [
            "0.31\n"
          ]
        }
      ]
    },
    {
      "cell_type": "markdown",
      "source": [
        "Great! Now we need to decide what our threshold is...\n",
        "Following the logic from the Rosenblatt perceptron, let's create a step function.\n",
        "\n",
        "In this function if the value is less than the threshold, we will get no output (zero). Else, if the value is greater than the threshold, we will get an output (one)"
      ],
      "metadata": {
        "id": "Z1IBFPpRD9P-"
      }
    },
    {
      "cell_type": "code",
      "source": [
        "chosen_threshold = 1"
      ],
      "metadata": {
        "id": "4lxUdcY-DWH8"
      },
      "execution_count": 24,
      "outputs": []
    },
    {
      "cell_type": "markdown",
      "source": [
        "To build some intuition for what this might look like, let's go ahead and plot the function below:"
      ],
      "metadata": {
        "id": "9n5ldeSGIrKY"
      }
    },
    {
      "cell_type": "code",
      "source": [
        "import matplotlib.pyplot as plt\n",
        "# Define the Heaviside function\n",
        "def heaviside(x):\n",
        "    return np.heaviside(x-chosen_threshold, 1)\n",
        "\n",
        "# Generate values for x\n",
        "x = np.linspace(-5, 5, 1000)\n",
        "y = heaviside(x)\n",
        "\n",
        "# Create the plot\n",
        "plt.plot(x, y, label=\"Heaviside Function\")\n",
        "plt.title(\"Heaviside Step Function\")\n",
        "plt.xlabel(\"x\")\n",
        "plt.ylabel(\"H(x)\")\n",
        "plt.grid(False)\n",
        "plt.axhline(0, color='black',linewidth=0.5)\n",
        "plt.axvline(0, color='black',linewidth=0.5)\n",
        "plt.legend()\n",
        "plt.show()"
      ],
      "metadata": {
        "colab": {
          "base_uri": "https://localhost:8080/",
          "height": 472
        },
        "id": "A2SMFE_wImxB",
        "outputId": "a9781234-c62d-4777-ceb9-1f74c0dd50a1"
      },
      "execution_count": 36,
      "outputs": [
        {
          "output_type": "display_data",
          "data": {
            "text/plain": [
              "<Figure size 640x480 with 1 Axes>"
            ],
            "image/png": "[encoded data removed]"
          },
          "metadata": {}
        }
      ]
    },
    {
      "cell_type": "code",
      "source": [
        "def activation_function(dot_product):\n",
        "  if dot_product > chosen_threshold:\n",
        "    return 1\n",
        "  else:\n",
        "    return 0"
      ],
      "metadata": {
        "id": "kv3qUynVEvsJ"
      },
      "execution_count": 25,
      "outputs": []
    },
    {
      "cell_type": "code",
      "source": [
        "# let's now go ahead and put this all together\n",
        "\n",
        "def perceptron(x_input,w_weight):\n",
        "  dot_product_output = np.dot(x_input,w_weight)\n",
        "  fire = activation_function(dot_product_output)\n",
        "  return fire\n"
      ],
      "metadata": {
        "id": "O0JgF_5QFJmL"
      },
      "execution_count": 27,
      "outputs": []
    },
    {
      "cell_type": "code",
      "source": [
        "output = perceptron(inputs,weights)\n",
        "if output == 0:\n",
        "  print(\"Our perceptron didn't fire!\")\n",
        "else:\n",
        "  print(\"Our perceptron fired!\")"
      ],
      "metadata": {
        "colab": {
          "base_uri": "https://localhost:8080/"
        },
        "id": "sqVeRV5jFju7",
        "outputId": "89a743cf-0e1d-4349-a04f-38571391a312"
      },
      "execution_count": 29,
      "outputs": [
        {
          "output_type": "stream",
          "name": "stdout",
          "text": [
            "Our perceptron didn't fire!\n"
          ]
        }
      ]
    },
    {
      "cell_type": "markdown",
      "source": [
        "You'll probably remember from your lecture with Max (and what I hopefully was able to remind you of above), that one big benefit to perceptron's is that they learn, so they are able to update their weights to get a more accurate prediction.\n",
        "\n",
        "Since this is a new tutorial, I haven't coded that example up yet, but let me know if you think that would be helpful!"
      ],
      "metadata": {
        "id": "oIo2G0zcGmgw"
      }
    },
    {
      "cell_type": "code",
      "source": [],
      "metadata": {
        "id": "rtoPqiB0F7Ud"
      },
      "execution_count": null,
      "outputs": []
    }
  ]
}